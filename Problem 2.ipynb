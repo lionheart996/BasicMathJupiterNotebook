{
 "cells": [
  {
   "metadata": {},
   "cell_type": "markdown",
   "source": "#### Equation of a line: $$y=ax+b$$",
   "id": "5aeeab3afaa4ed80"
  },
  {
   "metadata": {},
   "cell_type": "markdown",
   "source": [
    "#### Roots of a quadratic equation $ax^2+bx+c=0$:\n",
    "$$\n",
    "x_{1,2} = \\frac{-b \\pm \\sqrt{b^2 - 4ac}}{2a}\n",
    "$$"
   ],
   "id": "497fb1c319a2e7ca"
  },
  {
   "metadata": {},
   "cell_type": "markdown",
   "source": [
    "#### Taylor series expansion:\n",
    "$$\n",
    "\\\n",
    "f(x)\\Big|_{x=a} = f(a) + f'(a)(x-a) + \\frac{f''(a)}{2!}(x-a)^2 + \\cdots + \\frac{f^{(n)}(a)}{n!}(x-a)^n + \\cdots\n",
    "$$"
   ],
   "id": "20c055ed5de7f579"
  },
  {
   "metadata": {},
   "cell_type": "markdown",
   "source": [
    "#### Binomial Theorem:\n",
    "$$\n",
    "(x + y)^n = \\binom{n}{0}x^ny^0 + \\binom{n}{1}x^{n-1}y + \\cdots  + \\binom{n}{n}x^0y^n = (a + b)^n = \\sum_{k=0}^{n} \\binom{n}{k} x^{n-k} y^k\n",
    "$$"
   ],
   "id": "3245b14798e8db2e"
  },
  {
   "metadata": {},
   "cell_type": "markdown",
   "source": [
    "#### An integral:\n",
    "$$\n",
    " \\int_{-\\infty}^{+\\infty}e^{-x^2}dx = \\sqrt{\\pi}\n",
    "$$"
   ],
   "id": "b06431d7321ee29"
  },
  {
   "metadata": {},
   "cell_type": "markdown",
   "source": [
    "#### A short matrix:\n",
    "$$\n",
    "\\begin{pmatrix}\n",
    "2 & 1 & 3 \\\\\n",
    "2 & 6 & 8 \\\\\n",
    "6 & 8 & 18\n",
    "\\end{pmatrix}\n",
    "$$"
   ],
   "id": "dd53915d28e61608"
  },
  {
   "metadata": {},
   "cell_type": "markdown",
   "source": [
    "#### A long matrix:\n",
    "$$\n",
    "A = \\begin{bmatrix}\n",
    "a_{11} & a_{12} & \\cdots & a_{1n} \\\\\n",
    "a_{21} & a_{22} & \\cdots & a_{2n} \\\\\n",
    "\\vdots & \\vdots & \\ddots & \\vdots \\\\\n",
    "a_{m1} & a_{m2} & \\cdots & a_{mn}\n",
    "\\end{bmatrix}\n",
    "$$"
   ],
   "id": "74ef7f9155dfd92b"
  },
  {
   "metadata": {},
   "cell_type": "code",
   "outputs": [],
   "execution_count": null,
   "source": "",
   "id": "21b930eb250034c6"
  }
 ],
 "metadata": {
  "kernelspec": {
   "display_name": "Python 3",
   "language": "python",
   "name": "python3"
  },
  "language_info": {
   "codemirror_mode": {
    "name": "ipython",
    "version": 2
   },
   "file_extension": ".py",
   "mimetype": "text/x-python",
   "name": "python",
   "nbconvert_exporter": "python",
   "pygments_lexer": "ipython2",
   "version": "2.7.6"
  }
 },
 "nbformat": 4,
 "nbformat_minor": 5
}

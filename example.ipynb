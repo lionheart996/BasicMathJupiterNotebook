{
 "cells": [
  {
   "metadata": {
    "ExecuteTime": {
     "end_time": "2025-04-05T14:24:14.014287Z",
     "start_time": "2025-04-05T14:24:14.008347Z"
    }
   },
   "cell_type": "code",
   "source": [
    "from cmath import sqrt\n",
    "\n",
    "import sympy as sp\n",
    "from rich.jupyter import display"
   ],
   "id": "1b7190dcf67db73",
   "outputs": [],
   "execution_count": 13
  },
  {
   "metadata": {},
   "cell_type": "markdown",
   "source": [
    "# Header\n",
    "## Author\n",
    "## Abstract\n",
    "...\n",
    "\n"
   ],
   "id": "f13f1d2bde7a4f35"
  },
  {
   "metadata": {},
   "cell_type": "markdown",
   "source": "### introduction\n",
   "id": "c1fdb375f5755708"
  },
  {
   "metadata": {},
   "cell_type": "markdown",
   "source": "#### short intro\n",
   "id": "46e532683e69e7c9"
  },
  {
   "metadata": {
    "ExecuteTime": {
     "end_time": "2025-04-04T13:30:32.146756Z",
     "start_time": "2025-04-04T13:30:32.139237Z"
    }
   },
   "cell_type": "code",
   "source": [
    "def is_odd(number):\n",
    "    return number % 2 == 1\n",
    "\n",
    "def get_all_odd_numbers(numbers):\n",
    "    odd_numbers = []\n",
    "    for number in numbers:\n",
    "        if is_odd(number):\n",
    "            odd_numbers.append(number)\n",
    "    return odd_numbers\n",
    "\n",
    "print(get_all_odd_numbers(range(0, 200, 5)))"
   ],
   "id": "7a2a91baba2cd907",
   "outputs": [
    {
     "name": "stdout",
     "output_type": "stream",
     "text": [
      "[5, 15, 25, 35, 45, 55, 65, 75, 85, 95, 105, 115, 125, 135, 145, 155, 165, 175, 185, 195]\n"
     ]
    }
   ],
   "execution_count": 5
  },
  {
   "metadata": {
    "ExecuteTime": {
     "end_time": "2025-04-05T13:53:46.225160Z",
     "start_time": "2025-04-05T13:53:46.118465Z"
    }
   },
   "cell_type": "code",
   "source": [
    "\n",
    "sp.init_printing()\n",
    "\n",
    "x = sp.Symbol('x')\n",
    "a = sp.Symbol('a')\n",
    "b = sp.Symbol('b')\n",
    "c = sp.Symbol('c')\n",
    "sp.solve(a*x**2+b*x+c, x)"
   ],
   "id": "1777044d2927321c",
   "outputs": [
    {
     "data": {
      "text/plain": [
       "⎡        _____________          _____________⎤\n",
       "⎢       ╱           2          ╱           2 ⎥\n",
       "⎢-b - ╲╱  -4⋅a⋅c + b    -b + ╲╱  -4⋅a⋅c + b  ⎥\n",
       "⎢─────────────────────, ─────────────────────⎥\n",
       "⎣         2⋅a                    2⋅a         ⎦"
      ],
      "image/png": "[encoded data removed]",
      "text/latex": "$\\displaystyle \\left[ \\frac{- b - \\sqrt{- 4 a c + b^{2}}}{2 a}, \\  \\frac{- b + \\sqrt{- 4 a c + b^{2}}}{2 a}\\right]$"
     },
     "execution_count": 5,
     "metadata": {},
     "output_type": "execute_result"
    }
   ],
   "execution_count": 5
  },
  {
   "metadata": {
    "ExecuteTime": {
     "end_time": "2025-04-05T14:27:21.208578Z",
     "start_time": "2025-04-05T14:27:21.131185Z"
    }
   },
   "cell_type": "code",
   "source": [
    "from math import sqrt\n",
    "\n",
    "sp.init_printing()\n",
    "x = sp.Symbol('x')\n",
    "a = sp.Symbol('a')\n",
    "b = sp.Symbol('b')\n",
    "c = sp.Symbol('c')\n",
    "def solve_linear_equations(a, b):\n",
    "\n",
    "    if a == 0:\n",
    "        return 'undefined'\n",
    "    if b == 0:\n",
    "        return 0\n",
    "    x = -b / a\n",
    "    return x\n",
    "def solve_quadraatic_equation(a, b, c):\n",
    "\n",
    "    if a == 0:\n",
    "        return solve_linear_equations(b, c)\n",
    "\n",
    "    discriminant = b**2 - 4*a*c\n",
    "    if discriminant < 0:\n",
    "        return []\n",
    "    elif discriminant == 0:\n",
    "        return -b / (2*a)\n",
    "    else:\n",
    "        numerator1 = -b + sqrt(discriminant)\n",
    "        numerator2 = -b - sqrt(discriminant)\n",
    "\n",
    "        denominator = 2*a\n",
    "\n",
    "        x1= numerator1/denominator\n",
    "        x2= numerator2/denominator\n",
    "\n",
    "        return sorted([x1, x2])\n",
    "\n",
    "display(solve_quadraatic_equation(1, -1, -2))\n",
    "display(solve_quadraatic_equation(7, -5, 8))\n",
    "display(solve_quadraatic_equation(0, 5, 5))"
   ],
   "id": "f5afac11b13d3033",
   "outputs": [
    {
     "data": {
      "text/plain": [
       "[-1.0, 2.0]"
      ],
      "image/png": "[encoded data removed]",
      "text/latex": "$\\displaystyle \\left[ -1.0, \\  2.0\\right]$"
     },
     "metadata": {},
     "output_type": "display_data"
    },
    {
     "data": {
      "text/plain": [
       "[]"
      ],
      "image/png": "[encoded data removed]",
      "text/latex": "$\\displaystyle \\left[ \\right]$"
     },
     "metadata": {},
     "output_type": "display_data"
    },
    {
     "data": {
      "text/plain": [
       "-1.0"
      ],
      "image/png": "[encoded data removed]",
      "text/latex": "$\\displaystyle -1.0$"
     },
     "metadata": {},
     "output_type": "display_data"
    }
   ],
   "execution_count": 20
  },
  {
   "metadata": {
    "ExecuteTime": {
     "end_time": "2025-04-07T10:56:06.678661Z",
     "start_time": "2025-04-07T10:56:06.673653Z"
    }
   },
   "cell_type": "code",
   "source": [
    "print(lambda x: x + 2, 1, 3, 1)\n",
    "\n"
   ],
   "id": "e60d982dc4646a5c",
   "outputs": [
    {
     "name": "stdout",
     "output_type": "stream",
     "text": [
      "<function <lambda> at 0x000002260469B6A0> 1 3 1\n"
     ]
    }
   ],
   "execution_count": 4
  },
  {
   "metadata": {
    "ExecuteTime": {
     "end_time": "2025-04-07T11:05:10.935545Z",
     "start_time": "2025-04-07T11:05:10.929204Z"
    }
   },
   "cell_type": "code",
   "source": [
    "import numpy as np\n",
    "\n",
    "a = np.vectorize(lambda x, y: x + y)\n",
    "print(a)"
   ],
   "id": "6996ffe9acf7496d",
   "outputs": [
    {
     "name": "stdout",
     "output_type": "stream",
     "text": [
      "5\n"
     ]
    }
   ],
   "execution_count": 10
  },
  {
   "metadata": {},
   "cell_type": "code",
   "outputs": [],
   "execution_count": null,
   "source": "",
   "id": "9fa186756e73f087"
  }
 ],
 "metadata": {
  "kernelspec": {
   "display_name": "Python 3",
   "language": "python",
   "name": "python3"
  },
  "language_info": {
   "codemirror_mode": {
    "name": "ipython",
    "version": 2
   },
   "file_extension": ".py",
   "mimetype": "text/x-python",
   "name": "python",
   "nbconvert_exporter": "python",
   "pygments_lexer": "ipython2",
   "version": "2.7.6"
  }
 },
 "nbformat": 4,
 "nbformat_minor": 5
}

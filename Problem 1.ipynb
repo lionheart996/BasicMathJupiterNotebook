{
 "cells": [
  {
   "metadata": {},
   "cell_type": "markdown",
   "source": "# This is my Problem 1 solution:\n",
   "id": "8d8491e359a064f7"
  },
  {
   "metadata": {},
   "cell_type": "markdown",
   "source": "## Example for a table where I use bold and italic font:\n",
   "id": "ba35d05f9a247c2d"
  },
  {
   "metadata": {},
   "cell_type": "markdown",
   "source": [
    "| **Name** | **Age** | **Sex** |\n",
    "|----------|:-------:|--------:|\n",
    "| Maria    |   23    |     *F* |\n",
    "| Ivan     |   52    |     *M* |\n",
    "| Yana     |   16    |     *F* |"
   ],
   "id": "f9507337c43e0e19"
  },
  {
   "metadata": {},
   "cell_type": "markdown",
   "source": "## Examples for a lists:",
   "id": "e0c8bf5caa025e9a"
  },
  {
   "metadata": {},
   "cell_type": "markdown",
   "source": [
    "## Ordered list ->\n",
    "\n"
   ],
   "id": "17e4eda99ac9788"
  },
  {
   "metadata": {},
   "cell_type": "markdown",
   "source": [
    "### Grocery list:\n",
    "1. Bread\n",
    "2. Eggs\n",
    "3. Yoghurt\n",
    "4. Chocolate"
   ],
   "id": "d6e174ca7af72747"
  },
  {
   "metadata": {},
   "cell_type": "markdown",
   "source": "## Unordered list ->",
   "id": "7687194e004857dc"
  },
  {
   "metadata": {},
   "cell_type": "markdown",
   "source": [
    "### Grocery list:\n",
    "* Bread\n",
    "* Eggs\n",
    "* Yoghurt\n",
    "* Chocolate\n",
    "    - white\n",
    "    - dark"
   ],
   "id": "be0f78a32e3fc86e"
  },
  {
   "metadata": {},
   "cell_type": "markdown",
   "source": "## Example of a link:\n",
   "id": "86cc4c1985251e95"
  },
  {
   "metadata": {},
   "cell_type": "markdown",
   "source": "This [link](https://github.com/lionheart996) leads to my github profile.",
   "id": "bdc61a108055729b"
  },
  {
   "metadata": {},
   "cell_type": "markdown",
   "source": "## Example of a python code:",
   "id": "681d5b2d49a39c67"
  },
  {
   "metadata": {},
   "cell_type": "markdown",
   "source": [
    "\n",
    "\n",
    "```python\n",
    "def solve_linear_equations(a, b):\n",
    "\n",
    "    if a == 0:\n",
    "        return 'undefined'\n",
    "    if b == 0:\n",
    "        return 0\n",
    "    x = -b / a\n",
    "    return x\n",
    "```"
   ],
   "id": "933444a1edd3be2b"
  },
  {
   "metadata": {},
   "cell_type": "code",
   "outputs": [],
   "execution_count": null,
   "source": "",
   "id": "3b252d324def0c62"
  }
 ],
 "metadata": {
  "kernelspec": {
   "display_name": "Python 3",
   "language": "python",
   "name": "python3"
  },
  "language_info": {
   "codemirror_mode": {
    "name": "ipython",
    "version": 2
   },
   "file_extension": ".py",
   "mimetype": "text/x-python",
   "name": "python",
   "nbconvert_exporter": "python",
   "pygments_lexer": "ipython2",
   "version": "2.7.6"
  }
 },
 "nbformat": 4,
 "nbformat_minor": 5
}

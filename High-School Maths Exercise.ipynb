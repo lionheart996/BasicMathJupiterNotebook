{
 "cells": [
  {
   "cell_type": "code",
   "execution_count": null,
   "id": "3e9fa11d-3550-443d-acad-cd9e88df6feb",
   "metadata": {},
   "outputs": [],
   "source": [
    "# Write your imports here"
   ]
  },
  {
   "cell_type": "markdown",
   "id": "d44adea4-4931-4e21-beac-16dd1a4a1b0d",
   "metadata": {},
   "source": [
    "# High-School Maths Exercise\n",
    "## Getting to Know Jupyter Notebook. Python Libraries and Best Practices. Basic Workflow"
   ]
  },
  {
   "cell_type": "markdown",
   "id": "b6aace82-6631-4087-a5be-962c4dbf6095",
   "metadata": {},
   "source": [
    "### Problem 1. Markdown\n",
    "Jupyter Notebook is a very light, beautiful and convenient way to organize your research and display your results. Let's play with it for a while.\n",
    "\n",
    "First, you can double-click each cell and edit its content. If you want to run a cell (that is, execute the code inside it), use Cell > Run Cells in the top menu or press <kbd>Ctrl</kbd> + <kbd>Enter</kbd>.\n",
    "\n",
    "Second, each cell has a type. There are two main types: Markdown (which is for any kind of free text, explanations, formulas, results... you get the idea), and code (which is, well... for code :D).\n",
    "\n",
    "Let me give you a...\n",
    "#### Quick Introduction to Markdown\n",
    "##### Text and Paragraphs\n",
    "There are several things that you can do. As you already saw, you can write paragraph text just by typing it. In order to create a new paragraph, just leave a blank line. See how this works below:\n",
    "```\n",
    "This is some text.\n",
    "This text is on a new line, but it will continue the same paragraph (so you can make your paragraphs more easily readable by just continuing on a new line, or just go on and on like this one line is ever continuing).\n",
    "\n",
    "This text is displayed in a new paragraph.\n",
    "\n",
    "And this is yet another paragraph.\n",
    "```\n",
    "**Result:**\n",
    "\n",
    "This is some text.\n",
    "This text is on a new line, but it will continue the same paragraph (so you can make your paragraphs more easily readable by just continuing on a new line, or just go on and on like this one line is ever continuing).\n",
    "\n",
    "This text is displayed in a new paragraph.\n",
    "\n",
    "And this is yet another paragraph.\n",
    "\n",
    "##### Headings\n",
    "There are six levels of headings. Level one is the highest (largest and most important), and level 6 is the smallest. You can create headings of several types by prefixing the header line with one to six \"#\" symbols (this is called a pound sign if you are ancient, or a sharp sign if you're a musician... or a hashtag if you're too young :D). Have a look:\n",
    "```\n",
    "# Heading 1\n",
    "## Heading 2\n",
    "### Heading 3\n",
    "#### Heading 4\n",
    "##### Heading 5\n",
    "###### Heading 6\n",
    "```\n",
    "\n",
    "**Result:**\n",
    "\n",
    "# Heading 1\n",
    "## Heading 2\n",
    "### Heading 3\n",
    "#### Heading 4\n",
    "##### Heading 5\n",
    "###### Heading 6\n",
    "\n",
    "It is recommended that you have **only one** H1 heading - this should be the header of your notebook (or scientific paper). Below that, you can add your name or just jump to the explanations directly.\n",
    "\n",
    "##### Emphasis\n",
    "You can create emphasized (stronger) text by using a **bold** or _italic_ font. You can do this in several ways (using asterisks (\\*) or underscores (\\_)). In order to \"escape\" a symbol, prefix it with a backslash (\\). You can also strike through your text in order to signify a correction.\n",
    "```\n",
    "**bold** __bold__\n",
    "*italic* _italic_\n",
    "\n",
    "This is \\*\\*not \\*\\* bold.\n",
    "\n",
    "I ~~didn't make~~ a mistake.\n",
    "```\n",
    "\n",
    "**Result:**\n",
    "\n",
    "**bold** __bold__\n",
    "*italic* _italic_\n",
    "\n",
    "This is \\*\\*not\\*\\* bold.\n",
    "\n",
    "I ~~didn't make~~ a mistake.\n",
    "\n",
    "##### Lists\n",
    "You can add two types of lists: ordered and unordered. Lists can also be nested inside one another. To do this, press <kbd>Tab</kbd> once (it will be converted to 4 spaces).\n",
    "\n",
    "To create an ordered list, just type the numbers. Don't worry if your numbers are wrong - Jupyter Notebook will create them properly for you. Well, it's better to have them properly numbered anyway...\n",
    "```\n",
    "1. This is\n",
    "2. A list\n",
    "10. With many\n",
    "9. Items\n",
    "    1. Some of which\n",
    "    2. Can\n",
    "        3. Be nested\n",
    "42. You can also\n",
    "    * Mix \n",
    "    * list\n",
    "    * types\n",
    "```\n",
    "\n",
    "**Result:**\n",
    "1. This is\n",
    "2. A list\n",
    "10. With many\n",
    "9. Items\n",
    "    1. Some of which\n",
    "    2. Can\n",
    "        3. Be nested\n",
    "42. You can also\n",
    "    * Mix \n",
    "    * list\n",
    "    * types\n",
    "    \n",
    "To create an unordered list, type an asterisk, plus or minus at the beginning:\n",
    "```\n",
    "* This is\n",
    "* An\n",
    "    + Unordered\n",
    "    - list\n",
    "```\n",
    "\n",
    "**Result:**\n",
    "* This is\n",
    "* An\n",
    "    + Unordered\n",
    "        - list\n",
    "        \n",
    "##### Links\n",
    "There are many ways to create links but we mostly use one of them: we present links with some explanatory text. See how it works:\n",
    "```\n",
    "This is [a link](http://google.com) to Google.\n",
    "```\n",
    "\n",
    "**Result:**\n",
    "\n",
    "This is [a link](http://google.com) to Google.\n",
    "\n",
    "##### Images\n",
    "They are very similar to links. Just prefix the image with an exclamation mark. The alt(ernative) text will be displayed if the image is not available. Have a look (hover over the image to see the title text):\n",
    "```\n",
    "![Alt text](http://i.imgur.com/dkY1gph.jpg) Do you know that \"taco cat\" is a palindrome? Thanks to The Oatmeal :)\n",
    "```\n",
    "\n",
    "**Result:**\n",
    "\n",
    "![Alt text](http://i.imgur.com/dkY1gph.jpg) Do you know that \"taco cat\" is a palindrome? Thanks to The Oatmeal :)\n",
    "\n",
    "If you want to resize images or do some more advanced stuff, just use HTML. \n",
    "\n",
    "Did I mention these cells support HTML, CSS and JavaScript? Now I did.\n",
    "\n",
    "##### Tables\n",
    "These are a pain because they need to be formatted (somewhat) properly. Here's a good [table generator](http://www.tablesgenerator.com/markdown_tables). Just select File > Paste table data... and provide a tab-separated list of values. It will generate a good-looking ASCII-art table for you.\n",
    "```\n",
    "| Cell1 | Cell2 | Cell3 |\n",
    "|-------|-------|-------|\n",
    "| 1.1   | 1.2   | 1.3   |\n",
    "| 2.1   | 2.2   | 2.3   |\n",
    "| 3.1   | 3.2   | 3.3   |\n",
    "```\n",
    "\n",
    "**Result:**\n",
    "\n",
    "| Cell1 | Cell2 | Cell3 |\n",
    "|-------|-------|-------|\n",
    "| 1.1   | 1.2   | 1.3   |\n",
    "| 2.1   | 2.2   | 2.3   |\n",
    "| 3.1   | 3.2   | 3.3   |\n",
    "\n",
    "##### Code\n",
    "Just use triple backtick symbols. If you provide a language, it will be syntax-highlighted. You can also use inline code with single backticks.\n",
    "<pre>\n",
    "```python\n",
    "def square(x):\n",
    "    return x ** 2\n",
    "```\n",
    "This is `inline` code. No syntax highlighting here.\n",
    "</pre>\n",
    "\n",
    "**Result:**\n",
    "```python\n",
    "def square(x):\n",
    "    return x ** 2\n",
    "```\n",
    "This is `inline` code. No syntax highlighting here."
   ]
  },
  {
   "cell_type": "markdown",
   "id": "00f325c8-d827-4229-8fd8-0940867d6b43",
   "metadata": {},
   "source": [
    "**Now it's your turn to have some Markdown fun.** In the next cell, try out some of the commands. You can just throw in some things, or do something more structured (like a small notebook)."
   ]
  },
  {
   "cell_type": "markdown",
   "id": "0a10a295-7924-448f-97c1-aeb03090b305",
   "metadata": {},
   "source": [
    "| **Name** | **Age** | **Sex** |\n",
    "|----------|:-------:|--------:|\n",
    "| Maria    |   23    |     *F* |\n",
    "| Ivan     |   52    |     *M* |\n",
    "| Yana     |   16    |     *F* |\n",
    "\n",
    "### Grocery list:\n",
    "1. Bread\n",
    "2. Eggs\n",
    "3. Yoghurt\n",
    "\n",
    "This [link](https://github.com/lionheart996) leads to my github profile.\n",
    "\n",
    "```python\n",
    "def solve_linear_equation(a, b):\n",
    "    if a == 0:\n",
    "        return 'undefined'\n",
    "    if b == 0:\n",
    "        return 0\n",
    "    x = -b / a\n",
    "    return x\n",
    "```"
   ]
  },
  {
   "cell_type": "markdown",
   "id": "fd72e85e-fa0d-47ee-9c21-1807e33f7172",
   "metadata": {},
   "source": [
    "### Problem 2. Formulas and LaTeX\n",
    "Writing math formulas has always been hard. But scientists don't like difficulties and prefer standards. So, thanks to Donald Knuth (a very popular computer scientist, who also invented a lot of algorithms), we have a nice typesetting system, called LaTeX (pronounced _lah_-tek). We'll be using it mostly for math formulas, but it has a lot of other things to offer.\n",
    "\n",
    "There are two main ways to write formulas. You could enclose them in single `$` signs like this: `$ ax + b $`, which will create an **inline formula**: $ ax + b $. You can also enclose them in double `$` signs `$$ ax + b $$` to produce $$ ax + b $$\n",
    "\n",
    "Most commands start with a backslash and accept parameters either in square brackets `[]` or in curly braces `{}`. For example, to make a fraction, you typically would write `$$ \\frac{a}{b} $$`: $$ \\frac{a}{b} $$\n",
    "\n",
    "[Here's a resource](http://www.stat.pitt.edu/stoffer/freetex/latex%20basics.pdf) where you can look up the basics of the math syntax. You can also search StackOverflow - there are all sorts of solutions there.\n",
    "\n",
    "You're on your own now. Research and recreate all formulas shown in the next cell. Try to make your cell look exactly the same as mine. It's an image, so don't try to cheat by copy/pasting :D.\n",
    "\n",
    "Note that you **do not** need to understand the formulas, what's written there or what it means. We'll have fun with these later in the course.\n",
    "\n",
    "![Math formulas and equations](math.jpg)"
   ]
  },
  {
   "cell_type": "markdown",
   "id": "81857731-904a-4285-93ae-58ca7411bd59",
   "metadata": {},
   "source": [
    "#### Equation of a line: $$y=ax+b$$\n",
    "#### Roots of a quadratic equation $ax^2+bx+c=0$:\n",
    "$$\n",
    "x_{1,2} = \\frac{-b \\pm \\sqrt{b^2 - 4ac}}{2a}\n",
    "$$\n",
    "#### Taylor series expansion:\n",
    "$$\n",
    "\\\n",
    "f(x)\\Big|_{x=a} = f(a) + f'(a)(x-a) + \\frac{f''(a)}{2!}(x-a)^2 + \\cdots + \\frac{f^{(n)}(a)}{n!}(x-a)^n + \\cdots\n",
    "$$\n",
    "#### Binomial Theorem:\n",
    "$$\n",
    "(x + y)^n = \\binom{n}{0}x^ny^0 + \\binom{n}{1}x^{n-1}y + \\cdots  + \\binom{n}{n}x^0y^n = (a + b)^n = \\sum_{k=0}^{n} \\binom{n}{k} x^{n-k} y^k\n",
    "$$\n",
    "#### An integral:\n",
    "$$\n",
    " \\int_{-\\infty}^{+\\infty}e^{-x^2}dx = \\sqrt{\\pi}\n",
    "$$\n",
    "#### A short matrix:\n",
    "$$\n",
    "\\begin{pmatrix}\n",
    "2 & 1 & 3 \\\\\n",
    "2 & 6 & 8 \\\\\n",
    "6 & 8 & 18\n",
    "\\end{pmatrix}\n",
    "$$\n",
    "#### A long matrix:\n",
    "$$\n",
    "A = \\begin{bmatrix}\n",
    "a_{11} & a_{12} & \\cdots & a_{1n} \\\\\n",
    "a_{21} & a_{22} & \\cdots & a_{2n} \\\\\n",
    "\\vdots & \\vdots & \\ddots & \\vdots \\\\\n",
    "a_{m1} & a_{m2} & \\cdots & a_{mn}\n",
    "\\end{bmatrix}\n",
    "$$"
   ]
  },
  {
   "cell_type": "markdown",
   "id": "8c3a8cc9-f9bd-4277-bb3e-6007e7444890",
   "metadata": {},
   "source": [
    "### Problem 3. Solving equations with Python\n",
    "Let's first do some symbolic computation. We need to import `sympy` first. \n",
    "\n",
    "**Should your imports be in a single cell at the top or should they appear as they are used?** There's not a single valid best practice. Most people seem to prefer imports at the top of the file though. **Note: If you write new code in a cell, you have to re-execute it!**\n",
    "\n",
    "Let's use `sympy` to give us a quick symbolic solution to our equation. First import `sympy` (you can use the second cell in this notebook): \n",
    "```python \n",
    "import sympy \n",
    "```\n",
    "\n",
    "Next, create symbols for all variables and parameters. You may prefer to do this in one pass or separately:\n",
    "```python \n",
    "x = sympy.symbols('x')\n",
    "a, b, c = sympy.symbols('a b c')\n",
    "```\n",
    "\n",
    "Now solve:\n",
    "```python \n",
    "sympy.solve(a * x**2 + b * x + c)\n",
    "```"
   ]
  },
  {
   "cell_type": "code",
   "execution_count": null,
   "id": "b165a1ac-2fd7-4125-940d-1b7d3e44c36c",
   "metadata": {},
   "outputs": [],
   "source": [
    "import sympy\n",
    "x = sympy.symbols('x')\n",
    "a, b, c = sympy.symbols('a b c')\n",
    "sympy.solve(a * x**2 + b * x + c)"
   ]
  },
  {
   "cell_type": "markdown",
   "id": "47bc58e0-4067-4e33-9e0a-35ba944878af",
   "metadata": {},
   "source": [
    "Hmmmm... we didn't expect that :(. We got an expression for $a$ because the library tried to solve for the first symbol it saw. This is an equation and we have to solve for $x$. We can provide it as a second parameter:\n",
    "```python \n",
    "sympy.solve(a * x**2 + b * x + c, x)\n",
    "```\n",
    "\n",
    "To finish off, if we start with `sympy.init_printing()`, we'll get a LaTeX-formatted result instead of a typed one. This is very useful because it produces better-looking formulas.\n",
    "\n",
    "**Note:** This means we have to add the line BEFORE we start working with `sympy`. TYou mitght need to restart (and re-execute) all cells for this change to take effect."
   ]
  },
  {
   "cell_type": "code",
   "id": "941f7bb4-ab21-4b7b-ab9a-7b95c7c5d5bc",
   "metadata": {
    "ExecuteTime": {
     "end_time": "2025-04-05T20:13:30.252811Z",
     "start_time": "2025-04-05T20:13:30.144377Z"
    }
   },
   "source": [
    "import sympy\n",
    "sympy.init_printing()\n",
    "x = sympy.symbols('x')\n",
    "a, b, c = sympy.symbols('a b c')\n",
    "sympy.solve(a * x**2 + b * x + c, x)# Write your code here"
   ],
   "outputs": [
    {
     "data": {
      "text/plain": [
       "⎡        _____________          _____________⎤\n",
       "⎢       ╱           2          ╱           2 ⎥\n",
       "⎢-b - ╲╱  -4⋅a⋅c + b    -b + ╲╱  -4⋅a⋅c + b  ⎥\n",
       "⎢─────────────────────, ─────────────────────⎥\n",
       "⎣         2⋅a                    2⋅a         ⎦"
      ],
      "image/png": "[encoded data removed]",
      "text/latex": "$\\displaystyle \\left[ \\frac{- b - \\sqrt{- 4 a c + b^{2}}}{2 a}, \\  \\frac{- b + \\sqrt{- 4 a c + b^{2}}}{2 a}\\right]$"
     },
     "execution_count": 2,
     "metadata": {},
     "output_type": "execute_result"
    }
   ],
   "execution_count": 2
  },
  {
   "cell_type": "markdown",
   "id": "f366e586-f407-4031-90d5-5a57f13ae500",
   "metadata": {},
   "source": [
    "How about a function that takes $a,\\ b,\\ c$ (assume they are real numbers, you don't need to do additional checks on them) and returns the **real** roots of the quadratic equation?\n",
    "\n",
    "Remember that in order to calculate the roots, we first need to see whether the expression under the square root sign is non-negative.\n",
    "\n",
    "If $b^2 - 4ac > 0$, the equation has two real roots: $x_1, x_2$\n",
    "\n",
    "If $b^2 - 4ac = 0$, the equation has one real root: $x_1 = x_2$\n",
    "\n",
    "If $b^2 - 4ac < 0$, the equation has zero real roots\n",
    "\n",
    "Write a function which returns the roots. In the first case, return a list of 2 numbers: `[2, 3]`. In the second case, return a list of only one number: `[2]`. In the third case, return an empty list: `[]`."
   ]
  },
  {
   "cell_type": "code",
   "id": "849d39a7-850e-42c8-9716-da8af7526953",
   "metadata": {
    "ExecuteTime": {
     "end_time": "2025-04-05T20:17:15.427288Z",
     "start_time": "2025-04-05T20:17:15.420490Z"
    }
   },
   "source": [
    "from math import sqrt\n",
    "\n",
    "def solve_quadratic_equation(a, b, c):\n",
    "\n",
    "    discriminant = b**2 - 4*a*c\n",
    "    if discriminant < 0:\n",
    "        return []\n",
    "    elif discriminant == 0:\n",
    "        return -b / (2*a)\n",
    "    else:\n",
    "        numerator1 = -b + sqrt(discriminant)\n",
    "        numerator2 = -b - sqrt(discriminant)\n",
    "\n",
    "        denominator = 2*a\n",
    "\n",
    "        x1= numerator1/denominator\n",
    "        x2= numerator2/denominator\n",
    "\n",
    "        return sorted([x1, x2])"
   ],
   "outputs": [],
   "execution_count": 4
  },
  {
   "cell_type": "code",
   "id": "f4e1989d-01ad-4c17-90c9-8209b2656b25",
   "metadata": {
    "ExecuteTime": {
     "end_time": "2025-04-05T20:17:17.037909Z",
     "start_time": "2025-04-05T20:17:17.030584Z"
    }
   },
   "source": [
    "# Testing: Execute this cell. The outputs should match the expected outputs. Feel free to write more tests\n",
    "print(solve_quadratic_equation(1, -1, -2)) # [-1.0, 2.0]\n",
    "print(solve_quadratic_equation(1, -8, 16)) # [4.0]\n",
    "print(solve_quadratic_equation(1, 1, 1)) # []"
   ],
   "outputs": [
    {
     "name": "stdout",
     "output_type": "stream",
     "text": [
      "[-1.0, 2.0]\n",
      "4.0\n",
      "[]\n"
     ]
    }
   ],
   "execution_count": 5
  },
  {
   "cell_type": "markdown",
   "id": "982c5bd6-9793-4806-9730-8eb51f92aa92",
   "metadata": {},
   "source": [
    "**Bonus:** Last time we saw how to solve a linear equation. Remember that linear equations are just like quadratic equations with $a = 0$. In this case, however, division by 0 will throw an error. Extend your function above to support solving linear equations (in the same way we did it last time).\n",
    "\n",
    "**Bonus 2:** Actually, every quadratic equation (with a non-zero leading term $a$) has exactly two solutions. Find out what they are, why there are two of them, and how to compute them. If you've followed the steps outlined above, _you should add a single letter_ somewhere in your code to always obtain the two solutions to the quadratic equation."
   ]
  },
  {
   "cell_type": "markdown",
   "id": "b46f8a92-467e-4f3d-a304-ff532a6e50a7",
   "metadata": {},
   "source": [
    "### * Problem 4. Some tricks with Python functions\n",
    "For simplicity and conciseness, we sometimes tend to write shorter for-loops in Python. Sometimes, it's even better to write them in a single line. If we're working on lists, for example, we have [list comprehensions](https://www.geeksforgeeks.org/python-list-comprehension/) which look like this:\n",
    "```python\n",
    "my_list = [x for x in range(3)]\n",
    "```\n",
    "which is the same as\n",
    "```python\n",
    "my_list = []\n",
    "for x in range(3):\n",
    "    my_list.append(x)\n",
    "```\n",
    "but more concise and readable.\n",
    "\n",
    "Using list comprehensions (and no explicit for-loops), do the following:\n",
    "1. Create a function which generates the first $n = 20$ Fibonacci numbers as a Python `list`. Even better, generalize it to take `n` as a parameter.\n",
    "2. Apply it, and save the result in a variable.\n",
    "3. In another variable, square them\n",
    "4. In another variable, extract all odd squared numbers.\n",
    "5. Find the sum of all odd squares of the first `n` Fibonacci numbers. You won't likely need a list comprehension for this one.\n",
    "\n",
    "For a greater challenge, write 1-5 in a single expression, without intermediate variables.\n",
    "\n",
    "As an alternative, try using the Python builtins `map()`, `filter()` and `reduce()` instead of list comprehensions."
   ]
  },
  {
   "cell_type": "code",
   "id": "8a8bb43e-51d3-4f8a-8203-116bca6fd059",
   "metadata": {
    "ExecuteTime": {
     "end_time": "2025-04-05T20:49:31.731810Z",
     "start_time": "2025-04-05T20:49:31.719709Z"
    }
   },
   "source": [
    "def first_n_fibonacci_numbers(n):\n",
    "    list_of_fibonacci_numbers = [1,1]\n",
    "    while len(list_of_fibonacci_numbers) <= n:\n",
    "        list_of_fibonacci_numbers.append(list_of_fibonacci_numbers[-1] + list_of_fibonacci_numbers[-2])\n",
    "    return list_of_fibonacci_numbers[:n]\n",
    "\n",
    "first_twenty_fibonacci_numbers = (first_n_fibonacci_numbers(20))\n",
    "squares = [number**2 for number in first_twenty_fibonacci_numbers]\n",
    "odd_squares = [number for number in squares if number % 2 == 1]\n",
    "\n",
    "def sum_of_all_odd_squares(n):\n",
    "    squares = [number**2 for number in first_n_fibonacci_numbers(n)]\n",
    "    odd_squares = [number for number in squares if number % 2 == 1]\n",
    "    return sum(odd_squares)\n",
    "\n",
    "print(sum_of_all_odd_squares(4))"
   ],
   "outputs": [
    {
     "name": "stdout",
     "output_type": "stream",
     "text": [
      "[1, 1, 2, 3, 5, 8]\n",
      "[1, 1, 4, 9, 25, 64]\n",
      "[1, 1, 9, 25]\n"
     ]
    }
   ],
   "execution_count": 18
  },
  {
   "cell_type": "markdown",
   "id": "055d653c-97d8-4757-b0ee-379d1ad273f6",
   "metadata": {},
   "source": [
    "### * Problem 5. Getting started with `math`\n",
    "This one is for your enjoyment and practice, rather than a very strict assignment. Note that you'll see some problems like this.\n",
    "\n",
    "We just saw the `math` library. `import`s are a very import-ant ;) part of Python, as they allow us to reuse someone else's computations.\n",
    "\n",
    "Try out the \"trinity\" of functions: power ($x^y$), square root ($\\sqrt{x}$) and logarithms ($\\log_a(x)$) using the `math` library. In the next problems, you'll be graphing equations, so you will be able to see what the plots of these functions look like.\n",
    "\n",
    "Some questions to think about:\n",
    "* What are the _domain_ and _codomain_ of each function?\n",
    "* How does $\\sqrt{x}$ relate to $x^2$? Are there any restrictions on $x$? Are there any differences between what you'd expect in the math and what Python returns?\n",
    "* There's a native `pow()` function in Python. How does it compare to `math.pow()`?\n",
    "* How do we represent logarithms in an arbitrary base?\n",
    "* Actually, can we check (or even prove) some properties of logarihtms using Python? Look [here](https://www.cuemath.com/algebra/properties-of-logarithms/) for a refresher."
   ]
  },
  {
   "metadata": {},
   "cell_type": "markdown",
   "source": [
    "$x^2$, $x \\in \\mathbb{R}$\n",
    "\n",
    "$\\sqrt{x}$, $x \\ge 0$\n",
    "\n",
    "$\\sqrt{x^2} = \\Big|x\\Big|$"
   ],
   "id": "976912924e7c253d"
  },
  {
   "metadata": {
    "ExecuteTime": {
     "end_time": "2025-04-06T11:56:21.041832Z",
     "start_time": "2025-04-06T11:56:21.034543Z"
    }
   },
   "cell_type": "code",
   "source": [
    "from math import pow, log\n",
    "\n",
    "pow(5,2) #25\n",
    "log(100,10) #2\n"
   ],
   "id": "1e01637fc6496aa1",
   "outputs": [
    {
     "data": {
      "text/plain": [
       "2.0"
      ]
     },
     "execution_count": 6,
     "metadata": {},
     "output_type": "execute_result"
    }
   ],
   "execution_count": 6
  },
  {
   "cell_type": "markdown",
   "id": "ade51c74-dd21-4c1f-ae58-5222b489431d",
   "metadata": {},
   "source": [
    "### Problem 6. Equation of a Line\n",
    "Let's go back to our linear equations and systems. There are many ways to define what \"linear\" means, but they all boil down to the same thing.\n",
    "\n",
    "The equation $ax + b = 0$ is called *linear* because the function $f(x) = ax+b$ is a linear function. We know that there are several ways to know what one particular function means. One of them is to just write the expression for it, as we did above. Another way is to **plot** it. This is one of the most exciting parts of maths and science - when we have to fiddle around with beautiful plots (although not so beautiful in this case).\n",
    "\n",
    "The function produces a straight line and we can see it.\n",
    "\n",
    "How do we plot functions in general? We know that functions take many (possibly infinitely many) inputs. We can't draw all of them. We could, however, evaluate the function at some points and connect them with tiny straight lines. If the points are too many, we won't notice - the plot will look smooth.\n",
    "\n",
    "Now, let's take a function, e.g. $y = 2x + 3$ and plot it. For this, we're going to use `numpy` arrays. This is a special type of array which has two characteristics:\n",
    "* All elements in it must be of the same type\n",
    "* All operations are **broadcast**: if `x = [1, 2, 3, 10]` and we write `2 * x`, we'll get `[2, 4, 6, 20]`. That is, all operations are performed at all indices. This is very powerful, easy to use and saves us A LOT of looping.\n",
    "\n",
    "There's one more thing: it's blazingly fast because all computations are done in C, instead of Python.\n",
    "\n",
    "First let's import `numpy`. Since the name is a bit long, a common convention is to give it an **alias**:\n",
    "```python\n",
    "import numpy as np\n",
    "```\n",
    "\n",
    "Import that at the top cell and don't forget to re-run it.\n",
    "\n",
    "Next, let's create a range of values, e.g. $[-3, 5]$. There are two ways to do this. `np.arange(start, stop, step)` will give us evenly spaced numbers with a given step, while `np.linspace(start, stop, num)` will give us `num` samples. You see, one uses a fixed step, the other uses a number of points to return. When plotting functions, we usually use the latter. Let's generate, say, 1000 points (we know a straight line only needs two but we're generalizing the concept of plotting here :)).\n",
    "```python\n",
    "x = np.linspace(-3, 5, 1000)\n",
    "```\n",
    "Now, let's generate our function variable\n",
    "```python\n",
    "y = 2 * x + 3\n",
    "```\n",
    "\n",
    "We can print the values if we like but we're more interested in plotting them. To do this, first let's import a plotting library. `matplotlib` is the most commnly used one and we usually give it an alias as well.\n",
    "```python\n",
    "import matplotlib.pyplot as plt\n",
    "```\n",
    "\n",
    "Now, let's plot the values. To do this, we just call the `plot()` function. Notice that the top-most part of this notebook contains a \"magic string\": `%matplotlib inline`. This hints Jupyter to display all plots inside the notebook. However, it's a good practice to call `show()` after our plot is ready.\n",
    "```python\n",
    "plt.plot(x, y)\n",
    "plt.show()\n",
    "```"
   ]
  },
  {
   "cell_type": "code",
   "id": "90bc9266-91e5-4009-b24d-19cb29174ff3",
   "metadata": {
    "ExecuteTime": {
     "end_time": "2025-04-07T09:28:32.199433Z",
     "start_time": "2025-04-07T09:28:28.282305Z"
    }
   },
   "source": [
    "import numpy as np\n",
    "import matplotlib.pyplot as plt\n",
    "\n",
    "x = np.linspace(-3, 5, 1000)\n",
    "y = 2 * x + 3\n",
    "\n",
    "plt.plot(x, y)\n",
    "plt.show()"
   ],
   "outputs": [
    {
     "data": {
      "text/plain": [
       "<Figure size 640x480 with 1 Axes>"
      ],
      "image/png": "[encoded data removed]"
     },
     "metadata": {},
     "output_type": "display_data"
    }
   ],
   "execution_count": 7
  },
  {
   "cell_type": "markdown",
   "id": "f1570103-dae9-4b0b-a7a9-ceb963388e00",
   "metadata": {},
   "source": [
    "It doesn't look too bad bit we can do much better. See how the axes don't look like they should? Let's move them to zero. This can be done using the \"spines\" of the plot (i.e. the borders).\n",
    "\n",
    "All `matplotlib` figures can have many plots (subfigures) inside them. That's why when performing an operation, we have to specify a target figure. There is a default one and we can get it by using `plt.gca()`. We usually call it `ax` for \"axis\".\n",
    "Let's save it in a variable (in order to prevent multiple calculations and to make code prettier). Let's now move the bottom and left spines to the origin $(0, 0)$ and hide the top and right one.\n",
    "```python\n",
    "ax = plt.gca()\n",
    "ax.spines[\"bottom\"].set_position(\"zero\")\n",
    "ax.spines[\"left\"].set_position(\"zero\")\n",
    "ax.spines[\"top\"].set_visible(False)\n",
    "ax.spines[\"right\"].set_visible(False)\n",
    "```\n",
    "\n",
    "**Note:** All plot manipulations **MUST** be done before calling `plt.show()`. It's up to you whether they should be before or after the function you're plotting.\n",
    "\n",
    "This should look better now. We can, of course, do much better (e.g. remove the double 0 at the origin and replace it with a single one), but this is left as an exercise for the reader :)."
   ]
  },
  {
   "cell_type": "code",
   "id": "815b0f38-64f0-4e98-962e-ade8854ec1f5",
   "metadata": {
    "ExecuteTime": {
     "end_time": "2025-04-07T09:49:29.380273Z",
     "start_time": "2025-04-07T09:49:29.252004Z"
    }
   },
   "source": [
    "import numpy as np\n",
    "import matplotlib.pyplot as plt\n",
    "\n",
    "x = np.linspace(-3, 5, 1000)\n",
    "y = 2 * x + 3\n",
    "\n",
    "fig, ax = plt.subplots()\n",
    "ax.spines[\"bottom\"].set_position(\"zero\")\n",
    "ax.spines[\"left\"].set_position(\"zero\")\n",
    "ax.spines[\"top\"].set_visible(False)\n",
    "ax.spines[\"right\"].set_visible(False)\n",
    "plt.plot(x, y)\n",
    "\n",
    "# Remove the 0 label on the y-axis\n",
    "ax.yaxis.set_major_formatter(plt.FuncFormatter(lambda val, pos: '' if np.isclose(val, 0) else str(val)))\n",
    "\n",
    "plt.show()"
   ],
   "outputs": [
    {
     "data": {
      "text/plain": [
       "<Figure size 640x480 with 1 Axes>"
      ],
      "image/png": "[encoded data removed]"
     },
     "metadata": {},
     "output_type": "display_data"
    }
   ],
   "execution_count": 13
  },
  {
   "cell_type": "markdown",
   "id": "e6f94bcf-02fa-46a8-be0f-ee79f4fe3db6",
   "metadata": {},
   "source": [
    "### * Problem 7. Linearizing Functions\n",
    "Why is the line equation so useful? The main reason is because it's so easy to work with. Scientists actually try their best to linearize functions, that is, to make linear functions from non-linear ones. There are several ways of doing this. One of them involves derivatives and we'll talk about it later in the course. \n",
    "\n",
    "A commonly used method for linearizing functions is through algebraic transformations. Try to linearize the exponential function\n",
    "$$ y = ae^{bx} $$\n",
    "where $e$ is _the base of the natural logarithm_.\n",
    "\n",
    "**Hint:** The inverse operation of $e^{x}$ is $\\ln(x)$. Start by taking $\\ln$ of both sides and see what you can do. Your goal is to transform the function into another, linear function. You can look up more hints on the Internet if you get too stuck :)."
   ]
  },
  {
   "cell_type": "markdown",
   "id": "f0009bc7-ab6d-43d6-88ff-a26ebdf4827d",
   "metadata": {},
   "source": [
    "$\\ln{y} = \\ln{a} + \\ln{e^{bx}}$\n",
    "\n",
    "$ln{y} = z$\n",
    "\n",
    "$ln{a} = d$\n",
    "\n",
    "$ln{y} = ln{a} + bx$\n",
    "\n",
    "$z = d + bx$"
   ]
  },
  {
   "cell_type": "markdown",
   "id": "88a4dea7-6dd3-4594-ba5a-93352bc7fa1c",
   "metadata": {},
   "source": [
    " ### * Problem 8. Generalizing the Plotting Function\n",
    "Let's now use the power of Python to generalize the code we created to plot. In Python, you can pass functions as parameters to other functions. We'll utilize this to pass the math function that we're going to plot.\n",
    "\n",
    "Note: We can also pass *lambda expressions* (anonymous functions) like this: \n",
    "```python\n",
    "lambda x: x + 2```\n",
    "This is a shorter way to write\n",
    "```python\n",
    "def some_anonymous_function(x):\n",
    "    return x + 2\n",
    "```\n",
    "\n",
    "We'll also need a range of x values. We may also provide other optional parameters which will help set up our plot. These may include titles, legends, colors, fonts, etc. Let's stick to the basics now.\n",
    "\n",
    "Write a Python function which takes another function, x range and number of points, and plots the function graph by evaluating it at every point.\n",
    "\n",
    "**BIG hint:** If you want to use not only `numpy` functions for `f` but any one function, a very useful (and easy) thing to do, is to vectorize the function `f` (e.g. to allow it to be used with `numpy` broadcasting):\n",
    "```python\n",
    "f_vectorized = np.vectorize(f)\n",
    "y = f_vectorized(x)\n",
    "```"
   ]
  },
  {
   "cell_type": "code",
   "id": "7dcdae7b-96bf-47fa-9ef7-1401d5be652b",
   "metadata": {
    "ExecuteTime": {
     "end_time": "2025-04-08T11:09:37.818246Z",
     "start_time": "2025-04-08T11:09:35.968708Z"
    }
   },
   "source": [
    "import numpy as np\n",
    "import matplotlib.pyplot as plt\n",
    "\n",
    "def plot_math_function(f, min_x, max_x, num_points):\n",
    "    f_vectorized = np.vectorize(f)\n",
    "    x = np.linspace(min_x, max_x, num=num_points)\n",
    "    y = f_vectorized(x)\n",
    "\n",
    "    return plt.plot(x, y)\n"
   ],
   "outputs": [],
   "execution_count": 3
  },
  {
   "cell_type": "code",
   "id": "9a420422-26da-4592-b7ab-d99895138f16",
   "metadata": {
    "ExecuteTime": {
     "end_time": "2025-04-08T11:09:39.856616Z",
     "start_time": "2025-04-08T11:09:39.575161Z"
    }
   },
   "source": [
    "plt.show(plot_math_function(lambda x: 2 * x + 3, -3, 5, 1000))\n",
    "plt.show(plot_math_function(lambda x: -x + 8, -1, 10, 1000))\n",
    "plt.show(plot_math_function(lambda x: x**2 - x - 2, -3, 4, 1000))\n",
    "plt.show(plot_math_function(lambda x: np.sin(x), -np.pi, np.pi, 1000))\n",
    "plt.show(plot_math_function(lambda x: np.sin(x) / x, -4 * np.pi, 4 * np.pi, 1000))"
   ],
   "outputs": [
    {
     "data": {
      "text/plain": [
       "<Figure size 640x480 with 1 Axes>"
      ],
      "image/png": "[encoded data removed]"
     },
     "metadata": {},
     "output_type": "display_data"
    }
   ],
   "execution_count": 4
  },
  {
   "cell_type": "markdown",
   "id": "36cb2af6-780c-4c7e-87ea-ba771f3f79eb",
   "metadata": {},
   "source": [
    "### * Problem 9. Solving Equations Graphically\n",
    "Now that we have a general plotting function, we can use it for more interesting things. Sometimes we don't need to know what the exact solution is, just to see where it lies. We can do this by plotting the two functions around the \"=\" sign ans seeing where they intersect. Take, for example, the equation $2x + 3 = 0$. The two functions are $f(x) = 2x + 3$ and $g(x) = 0$. Since they should be equal, the point of their intersection is the solution of the given equation. We don't need to bother marking the point of intersection right now, just showing the functions.\n",
    "\n",
    "To do this, we'll need to improve our plotting function yet once. This time we'll need to take multiple functions and plot them all on the same graph. Note that we still need to provide the $[x_{min}; x_{max}]$ range and it's going to be the same for all functions.\n",
    "\n",
    "```python\n",
    "vectorized_fs = [np.vectorize(f) for f in functions]\n",
    "ys = [vectorized_f(x) for vectorized_f in vectorized_fs]\n",
    "```"
   ]
  },
  {
   "cell_type": "code",
   "id": "fdcfb549-2bc0-4f9c-913c-733d24cf6a50",
   "metadata": {
    "ExecuteTime": {
     "end_time": "2025-04-08T11:19:23.198568Z",
     "start_time": "2025-04-08T11:19:23.192567Z"
    }
   },
   "source": [
    "def plot_math_functions(functions, min_x, max_x, num_points):\n",
    "    x = np.linspace(min_x, max_x, num_points)\n",
    "    vectorized_fs = [np.vectorize(f) for f in functions]\n",
    "    ys = [vectorized_f(x) for vectorized_f in vectorized_fs]\n",
    "\n",
    "    for y in ys:\n",
    "        plt.plot(x, y)\n"
   ],
   "outputs": [],
   "execution_count": 5
  },
  {
   "cell_type": "code",
   "id": "f6aecaf4-be8e-4e54-9ac4-c0ee23f94904",
   "metadata": {
    "ExecuteTime": {
     "end_time": "2025-04-08T11:20:13.440966Z",
     "start_time": "2025-04-08T11:20:13.293050Z"
    }
   },
   "source": [
    "plot_math_functions([lambda x: 2 * x + 3, lambda x: 0], -3, 5, 1000)\n",
    "plot_math_functions([lambda x: 3 * x**2 - 2 * x + 5, lambda x: 3 * x + 7], -2, 3, 1000)"
   ],
   "outputs": [
    {
     "data": {
      "text/plain": [
       "<Figure size 640x480 with 1 Axes>"
      ],
      "image/png": "[encoded data removed]"
     },
     "metadata": {},
     "output_type": "display_data"
    }
   ],
   "execution_count": 9
  },
  {
   "cell_type": "markdown",
   "id": "29b15bd7-94da-4d9b-b3fd-14360b396310",
   "metadata": {},
   "source": [
    "This is also a way to plot the solutions of systems of equation, like the one we solved last time. Let's actually try it."
   ]
  },
  {
   "cell_type": "code",
   "id": "c1e7e947-3e84-4305-8578-737c3c5f04ed",
   "metadata": {
    "ExecuteTime": {
     "end_time": "2025-04-08T11:19:53.875817Z",
     "start_time": "2025-04-08T11:19:53.674756Z"
    }
   },
   "source": [
    "plot_math_functions([lambda x: (-4 * x + 7) / 3, lambda x: (-3 * x + 8) / 5, lambda x: (-x - 1) / -2], -1, 4, 1000)"
   ],
   "outputs": [
    {
     "data": {
      "text/plain": [
       "<Figure size 640x480 with 1 Axes>"
      ],
      "image/png": "[encoded data removed]"
     },
     "metadata": {},
     "output_type": "display_data"
    }
   ],
   "execution_count": 7
  },
  {
   "cell_type": "markdown",
   "id": "cc268677-b138-46a2-b03d-db04d5bdd437",
   "metadata": {},
   "source": [
    "### Problem 10. Trigonometric Functions\n",
    "We already saw the graph of the function $y = \\sin(x)$. But then again, how do we define the trigonometric functions? Let's quickly review that.\n",
    "\n",
    "![Right triangle](angle-in-right-triangle.png)\n",
    "\n",
    "The two basic trigonometric functions are defined as the ratio of two sides:\n",
    "$$ \\sin(x) = \\frac{\\text{opposite}}{\\text{hypotenuse}} $$\n",
    "$$ \\cos(x) = \\frac{\\text{adjacent}}{\\text{hypotenuse}} $$\n",
    "\n",
    "And also:\n",
    "$$ \\tan(x) = \\frac{\\text{opposite}}{\\text{adjacent}} = \\frac{\\sin(x)}{\\cos(x)} $$\n",
    "$$ \\cot(x) = \\frac{\\text{adjacent}}{\\text{opposite}} = \\frac{\\cos(x)}{\\sin(x)} $$\n",
    "\n",
    "This is fine, but using this, \"right-triangle\" definition, we're able to calculate the trigonometric functions of angles up to $90^\\circ$. But we can do better. Let's now imagine a circle centered at the origin of the coordinate system, with radius $r = 1$. This is called a \"unit circle\".\n",
    "\n",
    "![Trigonometric unit circle](triangle-unit-circle.png)\n",
    "\n",
    "We can now see exactly the same picture. The $x$-coordinate of the point in the circle corresponds to $\\cos(\\alpha)$ and the $y$-coordinate - to $\\sin(\\alpha)$. What did we get? We're now able to define the trigonometric functions for all degrees up to $360^\\circ$. After that, the same values repeat: these functions are **periodic**: \n",
    "$$ \\sin(k.360^\\circ + \\alpha) = \\sin(\\alpha), k = 0, 1, 2, \\dots $$\n",
    "$$ \\cos(k.360^\\circ + \\alpha) = \\cos(\\alpha), k = 0, 1, 2, \\dots $$\n",
    "\n",
    "We can, of course, use this picture to derive other identities, such as:\n",
    "$$ \\sin(90^\\circ + \\alpha) = \\cos(\\alpha) $$\n",
    "\n",
    "A very important property of the sine and cosine is that they accept values in the range $(-\\infty; \\infty)$ and produce values in the range $[-1; 1]$. The two other functions take values in the range $(-\\infty; \\infty)$ **except when their denominators are zero** and produce values in the same range. \n",
    "\n",
    "#### Radians\n",
    "A degree is a geometric object, $1/360$th of a full circle. This is quite inconvenient when we work with angles. There is another, natural and intrinsic measure of angles. It's called the **radian** and can be written as $\\text{rad}$ or without any designation, so $\\sin(2)$ means \"sine of two radians\".\n",
    "\n",
    "![Radian definition](radian.gif)\n",
    "\n",
    "It's defined as *the central angle of an arc with length equal to the circle's radius* and $1\\text{rad} \\approx 57.296^\\circ$.\n",
    "\n",
    "We know that the circle circumference is $C = 2\\pi r$, therefore we can fit exactly $2\\pi$ arcs with length $r$ in $C$. The angle corresponding to this is $360^\\circ$ or $2\\pi\\ \\text{rad}$. Also, $\\pi \\text{rad} = 180^\\circ$.\n",
    "\n",
    "(Some people prefer using $\\tau = 2\\pi$ to avoid confusion with always multiplying by 2 or 0.5 but we'll use the standard notation here.)\n",
    "\n",
    "**NOTE:** All trigonometric functions in `math` and `numpy` accept radians as arguments. In order to convert between radians and degrees, you can use the relations $\\text{[deg]} = 180/\\pi.\\text{[rad]}, \\text{[rad]} =  \\pi/180.\\text{[deg]}$. This can be done using `np.deg2rad()` and `np.rad2deg()` respectively.\n",
    "\n",
    "#### Inverse trigonometric functions\n",
    "All trigonometric functions have their inverses. If you plug in, say $\\pi/4$ in the $\\sin(x)$ function, you get $\\sqrt{2}/2$. The inverse functions (also called, arc-functions) take arguments in the interval $[-1; 1]$ and return the angle that they correspond to. Take arcsine for example:\n",
    "$$ \\arcsin(y) = x: sin(x) = y $$\n",
    "$$ \\arcsin\\left(\\frac{\\sqrt{2}}{2}\\right) = \\frac{\\pi}{4} $$\n",
    "\n",
    "Please note that this is NOT entirely correct. From the relations we found:\n",
    "$$\\sin(x) = sin(2k\\pi + x), k = 0, 1, 2, \\dots $$\n",
    "\n",
    "it follows that $\\arcsin(x)$ has infinitely many values, separated by $2k\\pi$ radians each:\n",
    "$$ \\arcsin\\left(\\frac{\\sqrt{2}}{2}\\right) = \\frac{\\pi}{4} + 2k\\pi, k = 0, 1, 2, \\dots $$\n",
    "\n",
    "In most cases, however, we're interested in the first value (when $k = 0$). It's called the **principal value**.\n",
    "\n",
    "Note 1: There are inverse functions for all four basic trigonometric functions: $\\arcsin$, $\\arccos$, $\\arctan$, $\\text{arccot}$. These are sometimes written as $\\sin^{-1}(x)$, $\\cos^{-1}(x)$, etc. These definitions are completely equivalent. \n",
    "\n",
    "Just notice the difference between $\\sin^{-1}(x) := \\arcsin(x)$ and $\\sin(x^{-1}) = \\sin(1/x)$."
   ]
  },
  {
   "cell_type": "markdown",
   "id": "9d4a1a6e-1550-4a43-8494-2fa6b1975956",
   "metadata": {},
   "source": [
    "#### Exercise\n",
    "Use the plotting function you wrote above to plot the inverse trigonometric functions. Use `numpy` (look up how to use inverse trigonometric functions)."
   ]
  },
  {
   "cell_type": "code",
   "id": "fcc3fed4-6ef9-472a-856b-ae3fe6b4ee56",
   "metadata": {
    "ExecuteTime": {
     "end_time": "2025-04-08T11:28:36.652184Z",
     "start_time": "2025-04-08T11:28:36.386853Z"
    }
   },
   "source": [
    "import numpy as np\n",
    "import matplotlib.pyplot as plt\n",
    "\n",
    "def plot_math_functions(functions, min_x, max_x, num_points):\n",
    "    x = np.linspace(min_x, max_x, num_points)\n",
    "    vectorized_fs = [np.vectorize(f) for f in functions]\n",
    "    ys = [vectorized_f(x) for vectorized_f in vectorized_fs]\n",
    "\n",
    "    for y, f in zip(ys, functions):\n",
    "        plt.plot(x, y, label=f.__name__)\n",
    "\n",
    "    plt.legend()\n",
    "    plt.title(\"Inverse Trigonometric Functions\")\n",
    "    plt.xlabel(\"x\")\n",
    "    plt.ylabel(\"f(x)\")\n",
    "    plt.grid(True)\n",
    "    plt.show()\n",
    "\n",
    "\n",
    "inverse_trig_functions = [np.arcsin, np.arccos, np.arctan]\n",
    "\n",
    "\n",
    "plot_math_functions(inverse_trig_functions, -1, 1, 1000)"
   ],
   "outputs": [
    {
     "data": {
      "text/plain": [
       "<Figure size 640x480 with 1 Axes>"
      ],
      "image/png": "[encoded data removed]"
     },
     "metadata": {},
     "output_type": "display_data"
    }
   ],
   "execution_count": 12
  },
  {
   "cell_type": "markdown",
   "id": "833fe0b7-27dd-409e-9f1a-17c3dc0b0ae0",
   "metadata": {},
   "source": [
    "ф### * Problem 11. Perlin Noise\n",
    "This algorithm has many applications in computer graphics and can serve to demonstrate several things... and help us learn about math, algorithms and Python :).\n",
    "#### Noise\n",
    "Noise is just random values. We can generate noise by just calling a random generator. Note that these are actually called *pseudorandom generators*. We'll talk about this later in this course.\n",
    "We can generate noise in however many dimensions we want. For example, if we want to generate a single dimension, we just pick N random values and call it a day. If we want to generate a 2D noise space, we can take an approach which is similar to what we already did with `np.meshgrid()`.\n",
    "\n",
    "$$ \\text{noise}(x, y) = N, N \\in [n_{min}, n_{max}] $$\n",
    "\n",
    "This function takes two coordinates and returns a single number N between $n_{min}$ and $n_{max}$. (This is what we call a \"scalar field\").\n",
    "\n",
    "Random variables are always connected to **distributions**. We'll talk about these a great deal but now let's just say that these define what our noise will look like. In the most basic case, we can have \"uniform noise\" - that is, each point in our little noise space $[n_{min}, n_{max}]$ will have an equal chance (probability) of being selected.\n",
    "\n",
    "#### Perlin noise\n",
    "There are many more distributions but right now we'll want to have a look at a particular one. **Perlin noise** is a kind of noise which looks smooth. It looks cool, especially if it's colored. The output may be tweaked to look like clouds, fire, etc. 3D Perlin noise is most widely used to generate random terrain.\n",
    "\n",
    "#### Algorithm\n",
    "... Now you're on your own :). Research how the algorithm is implemented (note that this will require that you understand some other basic concepts like vectors and gradients).\n",
    "\n",
    "#### Your task\n",
    "1. Research about the problem. See what articles, papers, Python notebooks, demos, etc. other people have created\n",
    "2. Create a new notebook and document your findings. Include any assumptions, models, formulas, etc. that you're using\n",
    "3. Implement the algorithm. Try not to copy others' work, rather try to do it on your own using the model you've created\n",
    "4. Test and improve the algorithm\n",
    "5. (Optional) Create a cool demo :), e.g. using Perlin noise to simulate clouds. You can even do an animation (hint: you'll need gradients not only in space but also in time)\n",
    "6. Communicate the results\n",
    "\n",
    "Hint: [This](http://flafla2.github.io/2014/08/09/perlinnoise.html) is a very good resource. It can show you both how to organize your notebook (which is important) and how to implement the algorithm."
   ]
  }
 ],
 "metadata": {
  "kernelspec": {
   "display_name": "Python 3 (ipykernel)",
   "language": "python",
   "name": "python3"
  },
  "language_info": {
   "codemirror_mode": {
    "name": "ipython",
    "version": 3
   },
   "file_extension": ".py",
   "mimetype": "text/x-python",
   "name": "python",
   "nbconvert_exporter": "python",
   "pygments_lexer": "ipython3",
   "version": "3.11.8"
  }
 },
 "nbformat": 4,
 "nbformat_minor": 5
}
